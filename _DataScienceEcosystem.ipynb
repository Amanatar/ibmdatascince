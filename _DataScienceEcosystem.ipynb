{
 "cells": [
  {
   "cell_type": "markdown",
   "id": "78d14d4c-b7cc-4ae4-9be4-e9b37df2a7b0",
   "metadata": {},
   "source": [
    "# Data Science Exercises Notebook\r\n"
   ]
  },
  {
   "cell_type": "markdown",
   "id": "54e47f02-96c2-4d1b-8781-e07f11a61d21",
   "metadata": {},
   "source": [
    "## Introduction\r\n",
    "This notebook contains various exercises aimed at demonstrating basic data science concepts and tools. It will cover different data science languages, libraries, and tools, along with basic arithmetic operations.\r\n"
   ]
  },
  {
   "cell_type": "markdown",
   "id": "7630a132-3e47-4965-aab5-e4e17a287f4d",
   "metadata": {},
   "source": [
    "## Data Science Languages\r\n",
    "Some popular languages used in data science are:\r\n",
    "- Python\r\n",
    "- R\r\n",
    "- SQL\r\n",
    "- Julia\r\n",
    "- Scala\r\n"
   ]
  },
  {
   "cell_type": "markdown",
   "id": "b5041b03-18a5-4a71-9de3-cc1755b6ba7a",
   "metadata": {},
   "source": [
    "## Data Science Libraries\r\n",
    "Popular libraries in data science include:\r\n",
    "- NumPy\r\n",
    "- Pandas\r\n",
    "- Matplotlib\r\n",
    "- Scikit-learn\r\n",
    "- TensorFlow\r\n",
    "- Keras\r\n",
    "- PyTorch\r\n"
   ]
  },
  {
   "cell_type": "markdown",
   "id": "f7834acd-0ab0-40cd-9124-e67f82b08abc",
   "metadata": {},
   "source": [
    "## Data Science Tools\r\n",
    "| Tool              | Description                                      |\r\n",
    "|-------------------|--------------------------------------------------|\r\n",
    "| Jupyter Notebook  | Interactive development environment for notebooks |\r\n",
    "| RStudio           | Integrated development environment for R          |\r\n",
    "| Apache Spark      | Unified analytics engine for large-scale data     |\r\n",
    "| Tableau           | Data visualization tool                           |\r\n",
    "| Power BI          | Business analytics service                        |\r\n"
   ]
  },
  {
   "cell_type": "markdown",
   "id": "21be779d-405a-4886-89df-3b07806ddb8a",
   "metadata": {},
   "source": [
    "## Arithmetic Expressions\r\n",
    "In data science, arithmetic expressions are used to perform basic calculations, such as addition, subtraction, multiplication, and division. Below are some examples.\r\n"
   ]
  },
  {
   "cell_type": "code",
   "execution_count": 20,
   "id": "3b9dbccb-3cc4-4a11-be82-f47c007b3da4",
   "metadata": {},
   "outputs": [
    {
     "data": {
      "text/plain": [
       "22"
      ]
     },
     "execution_count": 20,
     "metadata": {},
     "output_type": "execute_result"
    }
   ],
   "source": [
    "# Multiplying and adding two numbers\n",
    "(5 * 3) + 7\n"
   ]
  },
  {
   "cell_type": "code",
   "execution_count": 22,
   "id": "0fea94cd-1405-4293-a51e-fa267598cfc9",
   "metadata": {},
   "outputs": [
    {
     "data": {
      "text/plain": [
       "2.5"
      ]
     },
     "execution_count": 22,
     "metadata": {},
     "output_type": "execute_result"
    }
   ],
   "source": [
    "# Converting 150 minutes to hours\n",
    "minutes = 150\n",
    "hours = minutes / 60\n",
    "hours\n"
   ]
  },
  {
   "cell_type": "markdown",
   "id": "6f636e4f-49e8-4ea3-9e09-4b28e9ba830f",
   "metadata": {},
   "source": [
    "## Objectives\r\n",
    "- Learn about different data science languages\r\n",
    "- Explore popular data science libraries\r\n",
    "- Understand various tools used in data science\r\n",
    "- Perform basic arithmetic operations in Python\r\n",
    "- Share the notebook via GitHub\r\n"
   ]
  },
  {
   "cell_type": "markdown",
   "id": "7e051475-b3b3-42d7-bc67-5b6ad4c7546f",
   "metadata": {},
   "source": [
    "## Author\n",
    "aman atar\n"
   ]
  }
 ],
 "metadata": {
  "kernelspec": {
   "display_name": "Python 3 (ipykernel)",
   "language": "python",
   "name": "python3"
  },
  "language_info": {
   "codemirror_mode": {
    "name": "ipython",
    "version": 3
   },
   "file_extension": ".py",
   "mimetype": "text/x-python",
   "name": "python",
   "nbconvert_exporter": "python",
   "pygments_lexer": "ipython3",
   "version": "3.12.4"
  }
 },
 "nbformat": 4,
 "nbformat_minor": 5
}
